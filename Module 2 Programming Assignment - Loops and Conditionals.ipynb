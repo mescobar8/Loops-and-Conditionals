{
 "cells": [
  {
   "cell_type": "code",
   "execution_count": 4,
   "id": "01c50dfe-6353-459c-9ac8-a8699ae3ddf8",
   "metadata": {},
   "outputs": [
    {
     "name": "stdin",
     "output_type": "stream",
     "text": [
      "Enter your guess (between 1 and 10):  7\n"
     ]
    },
    {
     "name": "stdout",
     "output_type": "stream",
     "text": [
      "Just right!\n"
     ]
    }
   ],
   "source": [
    "# 4.1 Secret Number Guessing Game (with user input)\n",
    "\n",
    "# Assign a secret number between 1 and 10\n",
    "secret = 7  # You can change this to any number between 1 and 10\n",
    "\n",
    "# Ask the user to input their guess (convert it to an integer)\n",
    "guess = int(input(\"Enter your guess (between 1 and 10): \"))\n",
    "\n",
    "# Conditional tests to check if guess is less than, greater than, or equal to secret\n",
    "if guess < secret:\n",
    "    print(\"Too low!\")\n",
    "elif guess > secret:\n",
    "    print(\"Too high!\")\n",
    "else:\n",
    "    print(\"Just right!\")"
   ]
  },
  {
   "cell_type": "code",
   "execution_count": 8,
   "id": "f509ace2-a247-435b-b54a-e5471faa4bed",
   "metadata": {},
   "outputs": [
    {
     "name": "stdout",
     "output_type": "stream",
     "text": [
      "This is a pumpkin.\n"
     ]
    }
   ],
   "source": [
    "# 4.2 Fruit Matching Based on Size and Color\n",
    "\n",
    "# Assign True or False to the variables small and green\n",
    "small = False  \n",
    "green = False  \n",
    "\n",
    "# Using if/else statements to match fruit\n",
    "if small and green:\n",
    "    print(\"This is a pea.\")\n",
    "elif small and not green:\n",
    "    print(\"This is a cherry.\")\n",
    "elif not small and green:\n",
    "    print(\"This is a watermelon.\")\n",
    "else:\n",
    "    print(\"This is a pumpkin.\")"
   ]
  },
  {
   "cell_type": "code",
   "execution_count": 9,
   "id": "7a6eb45e-55c2-4641-b01d-c10a1885ba38",
   "metadata": {},
   "outputs": [
    {
     "name": "stdout",
     "output_type": "stream",
     "text": [
      "3\n",
      "2\n",
      "1\n",
      "0\n"
     ]
    }
   ],
   "source": [
    "# 6.1 Using a for loop to print values of the list [3, 2, 1, 0]\n",
    "\n",
    "my_list = [3, 2, 1, 0]\n",
    "\n",
    "# Loop through the list and print each value\n",
    "for number in my_list:\n",
    "    print(number)"
   ]
  },
  {
   "cell_type": "code",
   "execution_count": 19,
   "id": "ed022afc-4cdb-41fe-bd87-5f9f45633166",
   "metadata": {},
   "outputs": [
    {
     "name": "stdin",
     "output_type": "stream",
     "text": [
      "Enter the value for guess_me:  7\n"
     ]
    },
    {
     "name": "stdout",
     "output_type": "stream",
     "text": [
      "too low\n",
      "too low\n",
      "too low\n",
      "too low\n",
      "too low\n",
      "too low\n",
      "found it!\n"
     ]
    }
   ],
   "source": [
    "# 6.2 User input for 'number' and 'guess_me' with a while loop\n",
    "\n",
    "# Ask the user to input the values for guess_me and number\n",
    "guess_me = int(input(\"Enter the value for guess_me: \"))\n",
    "number = 1\n",
    "\n",
    "# While loop to compare number with guess_me\n",
    "while number < guess_me:\n",
    "    print(\"too low\")\n",
    "    number += 1  # Increment number after each iteration\n",
    "\n",
    "if number == guess_me:\n",
    "    print(\"found it!\")\n",
    "elif number > guess_me:\n",
    "    print(\"oops\")\n"
   ]
  },
  {
   "cell_type": "code",
   "execution_count": 18,
   "id": "f51c40ea-1167-45cc-a9bb-34c0055823c9",
   "metadata": {},
   "outputs": [
    {
     "name": "stdin",
     "output_type": "stream",
     "text": [
      "Enter the value for guess_me:  6\n"
     ]
    },
    {
     "name": "stdout",
     "output_type": "stream",
     "text": [
      "too low\n",
      "too low\n",
      "too low\n",
      "too low\n",
      "too low\n",
      "too low\n",
      "found it!\n"
     ]
    }
   ],
   "source": [
    "# 6.3 User input for 'guess_me' with a for loop over a range\n",
    "\n",
    "# Ask the user to input the value for guess_me\n",
    "guess_me = int(input(\"Enter the value for guess_me: \"))\n",
    "\n",
    "# Loop through range(10) (numbers 0 to 9) or adjust the range as needed\n",
    "for number in range(10):  # You can change the range if you want more numbers\n",
    "    if number < guess_me:\n",
    "        print(\"too low\")\n",
    "    elif number == guess_me:\n",
    "        print(\"found it!\")\n",
    "        break  # Exit the loop once found\n",
    "    else:\n",
    "        print(\"oops\")\n",
    "        break  # Exit the loop if number is greater than guess_me"
   ]
  },
  {
   "cell_type": "code",
   "execution_count": null,
   "id": "5c72f548-b813-4e26-8381-c0beed7927cc",
   "metadata": {},
   "outputs": [],
   "source": []
  }
 ],
 "metadata": {
  "kernelspec": {
   "display_name": "Python 3 (ipykernel)",
   "language": "python",
   "name": "python3"
  },
  "language_info": {
   "codemirror_mode": {
    "name": "ipython",
    "version": 3
   },
   "file_extension": ".py",
   "mimetype": "text/x-python",
   "name": "python",
   "nbconvert_exporter": "python",
   "pygments_lexer": "ipython3",
   "version": "3.12.7"
  }
 },
 "nbformat": 4,
 "nbformat_minor": 5
}
